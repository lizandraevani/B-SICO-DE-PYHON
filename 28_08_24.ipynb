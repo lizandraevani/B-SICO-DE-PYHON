{
  "nbformat": 4,
  "nbformat_minor": 0,
  "metadata": {
    "colab": {
      "provenance": []
    },
    "kernelspec": {
      "name": "python3",
      "display_name": "Python 3"
    },
    "language_info": {
      "name": "python"
    }
  },
  "cells": [
    {
      "cell_type": "code",
      "execution_count": 8,
      "metadata": {
        "colab": {
          "base_uri": "https://localhost:8080/"
        },
        "id": "eXBv9QQaR53U",
        "outputId": "bcc12d69-7938-4b15-c439-3d1aad7207bb"
      },
      "outputs": [
        {
          "output_type": "stream",
          "name": "stdout",
          "text": [
            "digite o valor de a 2\n",
            "digite o valor de b 4\n",
            "resultado da soma é 6.0\n",
            "resultado do produto é 8.0\n"
          ]
        }
      ],
      "source": [
        "######  Um algoritmo que calcula e mostra a soma e o produto de a e b ###\n",
        "\n",
        "a=float(input('digite o valor de a '))\n",
        "b=float(input('digite o valor de b '))\n",
        "s=a+b\n",
        "p=a*b\n",
        "\n",
        "print(f'resultado da soma é {s}')\n",
        "print(f'resultado do produto é {p}')"
      ]
    },
    {
      "cell_type": "code",
      "source": [
        "###### Um algoritmo que calcula e mostra a raiz de uma equação do 1º grau ####\n",
        "\n",
        "a=float(input('digite o valor de a '))\n",
        "b=float(input('digite o valor de b '))\n",
        "x=-b/a\n",
        "\n",
        "print(f'a raiz da equação de 1º grau é: {x}')"
      ],
      "metadata": {
        "colab": {
          "base_uri": "https://localhost:8080/"
        },
        "id": "_G1SArMTTtpa",
        "outputId": "41db924f-4af7-49e1-c9ad-6cf491abad2e"
      },
      "execution_count": 11,
      "outputs": [
        {
          "output_type": "stream",
          "name": "stdout",
          "text": [
            "digite o valor de a 2\n",
            "digite o valor de b 4\n",
            "a raiz da equação de 1º grau é: -2.0\n"
          ]
        }
      ]
    },
    {
      "cell_type": "code",
      "source": [
        "#### Um algoritmo que calcula e mostra as raízes de uma equação do 2º grau ###\n",
        "\n",
        "import math\n",
        "\n",
        "a=float(input('digite o valor de a '))\n",
        "b=float(input('digite o valor de b '))\n",
        "c=float(input('digite o valor de c '))\n",
        "\n",
        "Delta=b**2-4*a*c\n",
        "\n",
        "x1=(-b+math.sqrt(Delta))/(2*a)\n",
        "x2=(-b-math.sqrt(Delta))/(2*a)\n",
        "\n",
        "print(f'a raiz da equação é {x1}')\n",
        "print(f'a raiz da equação é {x2}')"
      ],
      "metadata": {
        "colab": {
          "base_uri": "https://localhost:8080/"
        },
        "id": "hpJTNTjQXjq0",
        "outputId": "4e4be420-463c-4ebc-d834-ca2224153bfd"
      },
      "execution_count": 21,
      "outputs": [
        {
          "output_type": "stream",
          "name": "stdout",
          "text": [
            "digite o valor de a -2\n",
            "digite o valor de b 4\n",
            "digite o valor de c 8\n",
            "a raiz da equação é -1.2360679774997898\n",
            "a raiz da equação é 3.23606797749979\n"
          ]
        }
      ]
    },
    {
      "cell_type": "code",
      "source": [
        "## Um algoritmo que calcula e mostra a área de um círculo. Leia o raio (r); ##\n",
        "\n",
        "r=float(input('digite o valor do raio'))\n",
        "\n",
        "a=math.pi*r**2\n",
        "\n",
        "print(f'o valor da area de um circulo é: {a}')"
      ],
      "metadata": {
        "colab": {
          "base_uri": "https://localhost:8080/"
        },
        "id": "9VvtqBRvZ9zH",
        "outputId": "5d20da17-d6ca-4a5d-c5d8-958a48c2af2e"
      },
      "execution_count": 22,
      "outputs": [
        {
          "output_type": "stream",
          "name": "stdout",
          "text": [
            "digite o valor do raio3\n",
            "o valor da area de um circulo é: 28.274333882308138\n"
          ]
        }
      ]
    },
    {
      "cell_type": "code",
      "source": [
        "## Um algoritmo que transforma uma temperatura em Celsius para graus Kelvin ###\n",
        "\n",
        "tc=float(input('insira a temperatura'))\n",
        "\n",
        "tk=tc+273\n",
        "\n",
        "print(f'a temperatura em kelvin é: {tk}')"
      ],
      "metadata": {
        "colab": {
          "base_uri": "https://localhost:8080/"
        },
        "id": "hF7IdNUjbMCb",
        "outputId": "24230129-ab84-4332-d53d-a3d1a56e2692"
      },
      "execution_count": 24,
      "outputs": [
        {
          "output_type": "stream",
          "name": "stdout",
          "text": [
            "insira a temperatura22\n",
            "a temperatura em kelvin é: 295.0\n"
          ]
        }
      ]
    },
    {
      "cell_type": "code",
      "source": [
        "### Algoritmo que transforma uma quantidade de horas para minutos e segundos ##\n",
        "\n",
        "h=float(input('qual é a quantidade de horas?'))\n",
        "\n",
        "m=h*60\n",
        "s=h*3600\n",
        "\n",
        "print(f'o valor dos minutos é: {m}')\n",
        "print(f' o valor dos segundos é: {s}')"
      ],
      "metadata": {
        "colab": {
          "base_uri": "https://localhost:8080/"
        },
        "id": "znMaaFRwdNyi",
        "outputId": "b4e02059-5492-4449-a517-5a51c10c161c"
      },
      "execution_count": 25,
      "outputs": [
        {
          "output_type": "stream",
          "name": "stdout",
          "text": [
            "qual é a quantidade de horas?4\n",
            "o valor dos minutos é: 240.0\n",
            " o valor dos segundos é: 14400.0\n"
          ]
        }
      ]
    },
    {
      "cell_type": "code",
      "source": [
        "## Algoritmo que mostra se um determinado número N é positivo ou negativo ##\n",
        "\n",
        "n=float(input('insira um numero'))\n",
        "\n",
        "if n > 0:\n",
        "  print('n é um numero positivo')\n",
        "else:\n",
        "  print('n é um numero negativo')"
      ],
      "metadata": {
        "colab": {
          "base_uri": "https://localhost:8080/"
        },
        "id": "ucf_fseUe-AZ",
        "outputId": "5abe2bfe-20a9-4c25-f8e1-defb3fda23be"
      },
      "execution_count": 28,
      "outputs": [
        {
          "output_type": "stream",
          "name": "stdout",
          "text": [
            "insira um numero4\n",
            "n é um numero positivo\n"
          ]
        }
      ]
    },
    {
      "cell_type": "code",
      "source": [
        "## Algoritmo que mostra se um determinado número N é positivo ou negativo ##\n",
        "\n",
        "n=float(input('insira um numero'))\n",
        "\n",
        "if n > 0:\n",
        "  print('n é um numero positivo')\n",
        "else:\n",
        "  print('n é um numero negativo')"
      ],
      "metadata": {
        "colab": {
          "base_uri": "https://localhost:8080/"
        },
        "id": "b7xFg4TlgKll",
        "outputId": "13db063e-bde0-42c4-b587-df7fc0e241ac"
      },
      "execution_count": 29,
      "outputs": [
        {
          "output_type": "stream",
          "name": "stdout",
          "text": [
            "insira um numero-2\n",
            "n é um numero negativo\n"
          ]
        }
      ]
    },
    {
      "cell_type": "code",
      "source": [
        "#### Algoritmo que calcula e mostra o n-ésimo termo de uma P.A ####\n",
        "\n",
        "a1=float(input('qual o valor de a1   '))\n",
        "n=float(input('qual o valor de n   '))\n",
        "r=float(input('qual o valor de r   '))\n",
        "\n",
        "an=a1+(n-1)*r\n",
        "\n",
        "print(f'o n-esimo termo de uma PA é: {an}')"
      ],
      "metadata": {
        "colab": {
          "base_uri": "https://localhost:8080/"
        },
        "id": "CyO8mLC_nbtD",
        "outputId": "4910cf73-3736-4cf8-d67f-fdce227a2552"
      },
      "execution_count": 39,
      "outputs": [
        {
          "output_type": "stream",
          "name": "stdout",
          "text": [
            "qual o valor de a1   12\n",
            "qual o valor de n   4\n",
            "qual o valor de r   6\n",
            "o n-esimo termo de uma PA é: 30.0\n"
          ]
        }
      ]
    },
    {
      "cell_type": "code",
      "source": [
        "a1=float(input('qual o valor de a1  '))\n",
        "n=float(input('qual o valor de n   '))\n",
        "q=float(input('qual o valor de q   '))\n",
        "\n",
        "an=a1*q**(n-1)\n",
        "\n",
        "print(f'o n-esimo termo de uma PA é: {an}')"
      ],
      "metadata": {
        "colab": {
          "base_uri": "https://localhost:8080/"
        },
        "id": "UjcJYkkqmwel",
        "outputId": "49bb8710-9823-42e6-c407-d96ca685614c"
      },
      "execution_count": 40,
      "outputs": [
        {
          "output_type": "stream",
          "name": "stdout",
          "text": [
            "qual o valor de a1  2\n",
            "qual o valor de n   3\n",
            "qual o valor de q   4\n",
            "o n-esimo termo de uma PA é: 32.0\n"
          ]
        }
      ]
    },
    {
      "cell_type": "code",
      "source": [],
      "metadata": {
        "id": "00EVO5gxoibc"
      },
      "execution_count": null,
      "outputs": []
    }
  ]
}